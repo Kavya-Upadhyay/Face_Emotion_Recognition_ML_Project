{
 "cells": [
  {
   "cell_type": "code",
   "execution_count": 15,
   "id": "98b5a5e4-bd80-457d-a428-379591e835f6",
   "metadata": {},
   "outputs": [],
   "source": [
    "import cv2"
   ]
  },
  {
   "cell_type": "code",
   "execution_count": null,
   "id": "b78c6d13-f4f2-4e3f-99ef-5e8bea1162a7",
   "metadata": {},
   "outputs": [],
   "source": []
  },
  {
   "cell_type": "code",
   "execution_count": 19,
   "id": "203d226f-b6a0-4d64-a858-d3dcf3e99136",
   "metadata": {},
   "outputs": [],
   "source": [
    "import cv2\n",
    "from fer import FER\n",
    "\n",
    "detector = FER()\n",
    "\n",
    "\n",
    "video_cap = cv2.VideoCapture(0)\n",
    "\n",
    "while True:\n",
    "    ret, video_data = video_cap.read()\n",
    "    if not ret:\n",
    "        break\n",
    "\n",
    "    \n",
    "    gray = cv2.cvtColor(video_data, cv2.COLOR_BGR2GRAY)\n",
    "\n",
    "    face_cascade = cv2.CascadeClassifier(cv2.data.haarcascades + 'haarcascade_frontalface_default.xml')\n",
    " \n",
    "    faces = face_cascade.detectMultiScale(gray, scaleFactor=1.1, minNeighbors=5, minSize=(30, 30))\n",
    "\n",
    "    for (x, y, w, h) in faces:\n",
    "        \n",
    "        face = video_data[y:y+h, x:x+w]\n",
    "        emotion, score = detector.top_emotion(face)\n",
    "       \n",
    "        cv2.rectangle(video_data, (x, y), (x+w, y+h), (0, 255, 0), 2)\n",
    "        \n",
    "        if emotion == 'happy':\n",
    "            label = f'Happy: {score:.2f}'\n",
    "        else:\n",
    "            label = f'Sad: {score:.2f}'\n",
    "        \n",
    "        \n",
    "        cv2.putText(video_data, label, (x, y-10), cv2.FONT_HERSHEY_SIMPLEX, 0.9, (0, 255, 0), 2)\n",
    "\n",
    "    \n",
    "    cv2.imshow(\"Emotion Detection\", video_data)\n",
    "\n",
    "    \n",
    "    if cv2.waitKey(1) & 0xFF == ord('q'):\n",
    "        break\n",
    "\n",
    "\n",
    "video_cap.release()\n",
    "cv2.destroyAllWindows()\n"
   ]
  },
  {
   "cell_type": "code",
   "execution_count": 4,
   "id": "e46c01f6-5bb0-4f85-83d7-22430c8d6b84",
   "metadata": {},
   "outputs": [],
   "source": [
    "# !pip install fer\n"
   ]
  },
  {
   "cell_type": "code",
   "execution_count": 5,
   "id": "63dec558-e3c3-4a26-bf9c-bf644fe521bc",
   "metadata": {},
   "outputs": [],
   "source": [
    "# from fer import FER\n"
   ]
  },
  {
   "cell_type": "code",
   "execution_count": null,
   "id": "f21accf7-59cf-41e9-9e5a-1f12779780ee",
   "metadata": {},
   "outputs": [],
   "source": []
  },
  {
   "cell_type": "code",
   "execution_count": null,
   "id": "e4defc5d-ce91-4c24-95f3-5437aad1df3a",
   "metadata": {},
   "outputs": [],
   "source": []
  }
 ],
 "metadata": {
  "kernelspec": {
   "display_name": "Python 3 (ipykernel)",
   "language": "python",
   "name": "python3"
  },
  "language_info": {
   "codemirror_mode": {
    "name": "ipython",
    "version": 3
   },
   "file_extension": ".py",
   "mimetype": "text/x-python",
   "name": "python",
   "nbconvert_exporter": "python",
   "pygments_lexer": "ipython3",
   "version": "3.12.4"
  }
 },
 "nbformat": 4,
 "nbformat_minor": 5
}
